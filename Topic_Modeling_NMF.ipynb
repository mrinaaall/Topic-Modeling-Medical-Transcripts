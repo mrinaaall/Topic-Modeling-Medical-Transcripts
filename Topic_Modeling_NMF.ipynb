{
 "cells": [
  {
   "cell_type": "code",
   "execution_count": 1,
   "metadata": {},
   "outputs": [],
   "source": [
    "import pandas as pd\n",
    "import string\n",
    "import nltk\n",
    "from nltk.tokenize import word_tokenize\n",
    "from nltk.tokenize import sent_tokenize\n",
    "from sklearn.decomposition import LatentDirichletAllocation as LDA\n",
    "import numpy as np\n",
    "import matplotlib.pyplot as plt"
   ]
  },
  {
   "cell_type": "markdown",
   "metadata": {},
   "source": [
    "Need to load tools from NLTK for stopwords and punctuation"
   ]
  },
  {
   "cell_type": "code",
   "execution_count": 2,
   "metadata": {},
   "outputs": [
    {
     "name": "stderr",
     "output_type": "stream",
     "text": [
      "[nltk_data] Downloading package wordnet to C:\\Users\\Mitch\n",
      "[nltk_data]     Gauthier\\AppData\\Roaming\\nltk_data...\n",
      "[nltk_data]   Package wordnet is already up-to-date!\n"
     ]
    }
   ],
   "source": [
    "#nltk.download('punkt')\n",
    "#nltk.download('stopwords')\n",
    "from nltk.corpus import stopwords\n",
    "nltk.download('wordnet')\n",
    "from nltk.stem import WordNetLemmatizer, SnowballStemmer\n",
    "from nltk.stem.porter import *"
   ]
  },
  {
   "cell_type": "markdown",
   "metadata": {},
   "source": [
    "Prepocessing and cleaning below. First we want to get transcripts into list of strings. Then we will\n",
    "        1. Tokenize each documnet into sentences\n",
    "        2. Remove all stop words from sentences\n",
    "        3. Remove all punctuation from sentences\n",
    "        4. Lemmatize and Stem each word in the sentences"
   ]
  },
  {
   "cell_type": "code",
   "execution_count": 3,
   "metadata": {},
   "outputs": [],
   "source": [
    "data = pd.read_csv('mtsamples.csv')\n",
    "data_cols = data.columns\n",
    "trans = list(data['transcription'].dropna())\n",
    "exclude = set(string.punctuation)\n",
    "stop = set(stopwords.words('english'))\n",
    "stemmer = SnowballStemmer(language='english')\n",
    "\n",
    "txt = []\n",
    "for i in range(0, len(trans)):\n",
    "        word = word_tokenize(str(trans[i]))\n",
    "        #Remove stopwords and punctuation\n",
    "        #Then lemmatize and stem the words\n",
    "        cle = [w for w in word if not w in exclude]\n",
    "        words = [c.lower() for c in cle if not c in stop]\n",
    "        stem = [stemmer.stem(WordNetLemmatizer().lemmatize(w)) for w in words]\n",
    "        txt.append(' '.join(stem))\n",
    "\n",
    " "
   ]
  },
  {
   "cell_type": "code",
   "execution_count": 4,
   "metadata": {},
   "outputs": [],
   "source": [
    "from sklearn.datasets import fetch_20newsgroups\n",
    "from sklearn.feature_extraction.text import TfidfVectorizer\n",
    "from sklearn.decomposition import NMF\n",
    "from gensim.models.coherencemodel import CoherenceModel\n",
    "from gensim.corpora import Dictionary\n",
    "from scipy.interpolate import make_interp_spline, BSpline"
   ]
  },
  {
   "cell_type": "code",
   "execution_count": 5,
   "metadata": {},
   "outputs": [],
   "source": [
    "grams = []\n",
    "for i in range(0, len(txt)):\n",
    "    grams.append(word_tokenize(txt[i]))\n",
    "diction = Dictionary(grams)"
   ]
  },
  {
   "cell_type": "markdown",
   "metadata": {},
   "source": [
    "In these next two chunks, we will be tokenizing our text data into unigrams and bigrams."
   ]
  },
  {
   "cell_type": "markdown",
   "metadata": {},
   "source": [
    "Now we can construct our tf-idf matrices for unigrams."
   ]
  },
  {
   "cell_type": "markdown",
   "metadata": {},
   "source": [
    "Below we will transform our matrix to tf_idf format, which will be a term document matrix. Then, this matrix will be decomposed using Nonnegative Matrix Factorization into W * H. Where W are the weights of components and H are the components (i.e. each document is represnted as weighted sum of topics)"
   ]
  },
  {
   "cell_type": "code",
   "execution_count": 6,
   "metadata": {
    "scrolled": true
   },
   "outputs": [
    {
     "data": {
      "text/plain": [
       "0.7377801554146888"
      ]
     },
     "execution_count": 6,
     "metadata": {},
     "output_type": "execute_result"
    }
   ],
   "source": [
    "#Creating document term matrix - tf-idf\n",
    "uni_vector = TfidfVectorizer(stop_words='english')\n",
    "tf_unigram = uni_vector.fit_transform(txt)\n",
    "\n",
    "#Gathering words present in each document with corresponding term frequency\n",
    "top_words = np.array(uni_vector.get_feature_names())\n",
    "\n",
    "#Decomposing tf-idf into matrices W = doc x concept, H = concept x word\n",
    "nmf = NMF(n_components=20, solver=\"mu\")\n",
    "W1 = nmf.fit_transform(tf_unigram)\n",
    "H1 = nmf.components_\n",
    "\n",
    "uni_topics=[]\n",
    "for topic in H1:\n",
    "    uni_topics.append([str(x) for x in top_words[topic.argsort()[-10:]]])\n",
    "\n",
    "cm = CoherenceModel(topics=uni_topics,texts=grams,dictionary=diction,coherence='c_v')\n",
    "#cm.get_coherence_per_topic()\n",
    "cm.get_coherence()"
   ]
  },
  {
   "cell_type": "markdown",
   "metadata": {},
   "source": [
    "Now that we have decomposed our tf-idf matrix using NMF and generated 20 topics, we need to tune our hyper parameter num_topics to generate the best possible model. For this, we will use perplexity and coherence score over a range of k. Most likely 10 to 30 topics."
   ]
  },
  {
   "cell_type": "markdown",
   "metadata": {},
   "source": [
    "The next step is to evaluate the model for a range of components to find which number creates the most optimal model."
   ]
  },
  {
   "cell_type": "markdown",
   "metadata": {},
   "source": [
    "Now we will test our model over a wide range of k values and chose the value at the point that precedes diminishing returns"
   ]
  },
  {
   "cell_type": "code",
   "execution_count": 7,
   "metadata": {},
   "outputs": [],
   "source": [
    "u_plot = []\n",
    "for i in range(1,30):\n",
    "    nmat = NMF(n_components=i,solver=\"mu\")\n",
    "    Wmat = nmat.fit_transform(tf_unigram)\n",
    "    Hmat = nmat.components_\n",
    "    unis = []\n",
    "    for topic in Hmat:\n",
    "        unis.append([str(x) for x in top_words[topic.argsort()[-10:]]])\n",
    "    cmod = CoherenceModel(topics=unis,texts=grams,dictionary=diction,coherence='c_v')\n",
    "    pair = [i,cmod.get_coherence()]\n",
    "    u_plot.append(pair)"
   ]
  },
  {
   "cell_type": "markdown",
   "metadata": {},
   "source": [
    "We will now plot number of topics v.s. Coherence Score, and use the elbow method to determine our k value"
   ]
  },
  {
   "cell_type": "code",
   "execution_count": 8,
   "metadata": {},
   "outputs": [
    {
     "data": {
      "text/plain": [
       "[<matplotlib.lines.Line2D at 0x1c6ab61fa48>]"
      ]
     },
     "execution_count": 8,
     "metadata": {},
     "output_type": "execute_result"
    },
    {
     "data": {
      "image/png": "[encoded data removed]",
      "text/plain": [
       "<Figure size 432x288 with 1 Axes>"
      ]
     },
     "metadata": {
      "needs_background": "light"
     },
     "output_type": "display_data"
    }
   ],
   "source": [
    "u_plot = np.asarray(u_plot)\n",
    "plt.title(\"Coherence Score (NMF)\")\n",
    "plt.ylabel(\"Coherence\")\n",
    "plt.xlabel(\"k (topics)\")\n",
    "plt.plot(u_plot[:,0],u_plot[:,1])"
   ]
  },
  {
   "cell_type": "markdown",
   "metadata": {},
   "source": [
    "We will chose 15 topics, because this is where our graph plateaus. Meaning it is the point where Coherence is maximized and the model is still generalized."
   ]
  },
  {
   "cell_type": "code",
   "execution_count": 10,
   "metadata": {},
   "outputs": [
    {
     "name": "stdout",
     "output_type": "stream",
     "text": [
      "Topic 1: day, time, present, year, past, deni, medic, pain, histori, patient\n",
      "Topic 2: remov, close, dissect, anesthesia, oper, sutur, incis, use, procedur, place\n",
      "Topic 3: stenosi, circumflex, branch, aortic, french, right, cathet, left, coronari, arteri\n",
      "Topic 4: herniat, anterior, plate, c3, disc, c7, cervic, c4, c6, c5\n",
      "Topic 5: reveal, imag, contrast, tumor, exam, mass, ct, lobe, normal, right\n",
      "Topic 6: medial, joint, tendon, proxim, osteotomi, plantar, right, ankl, metatars, foot\n",
      "Topic 7: rectum, esophagus, biopsi, colonoscopi, cecum, patient, procedur, polyp, scope, colon\n",
      "Topic 8: bag, phacoemulsif, anterior, lid, capsular, intraocular, cataract, chamber, len, eye\n",
      "Topic 9: tender, neck, intact, equal, mass, nose, clear, negat, ear, normal\n",
      "Topic 10: vagin, placenta, infant, clamp, cord, cervix, deliveri, uterin, fetal, uterus\n",
      "Topic 11: nerv, pain, l3, root, needl, disc, lumbar, s1, l4, l5\n",
      "Topic 12: place, appendix, mm, abdomen, cystic, laparoscop, duct, trocar, port, gallbladd\n",
      "Topic 13: tourniquet, wrist, distal, syndrome, nerv, transvers, ulnar, ligament, tunnel, carpal\n",
      "Topic 14: chest, fibril, rate, stress, heart, day, atrial, daily, daili, mg\n",
      "Topic 15: portal, meniscus, patella, joint, tibial, compon, femor, tear, medial, knee\n"
     ]
    }
   ],
   "source": [
    "_nmf = NMF(n_components=15,solver=\"mu\")\n",
    "_W = _nmf.fit_transform(tf_unigram)\n",
    "_H = _nmf.components_\n",
    "\n",
    "\n",
    "for i, top in enumerate(_H):\n",
    "    num = str(i+1)\n",
    "    print(\"Topic \"+num+\": \"+', '.join([x for x in top_words[top.argsort()[-10:]]]))"
   ]
  },
  {
   "cell_type": "markdown",
   "metadata": {},
   "source": [
    "Above are our optimal topics for the transcripts"
   ]
  },
  {
   "cell_type": "code",
   "execution_count": null,
   "metadata": {},
   "outputs": [],
   "source": []
  }
 ],
 "metadata": {
  "kernelspec": {
   "display_name": "Python 3",
   "language": "python",
   "name": "python3"
  },
  "language_info": {
   "codemirror_mode": {
    "name": "ipython",
    "version": 3
   },
   "file_extension": ".py",
   "mimetype": "text/x-python",
   "name": "python",
   "nbconvert_exporter": "python",
   "pygments_lexer": "ipython3",
   "version": "3.7.4"
  }
 },
 "nbformat": 4,
 "nbformat_minor": 2
}
